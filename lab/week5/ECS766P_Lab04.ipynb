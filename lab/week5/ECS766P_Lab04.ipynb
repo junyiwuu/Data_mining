{
  "nbformat": 4,
  "nbformat_minor": 0,
  "metadata": {
    "kernelspec": {
      "display_name": "Python 3",
      "language": "python",
      "name": "python3"
    },
    "language_info": {
      "codemirror_mode": {
        "name": "ipython",
        "version": 3
      },
      "file_extension": ".py",
      "mimetype": "text/x-python",
      "name": "python",
      "nbconvert_exporter": "python",
      "pygments_lexer": "ipython3",
      "version": "3.7.4"
    },
    "colab": {
      "provenance": []
    }
  },
  "cells": [
    {
      "cell_type": "markdown",
      "metadata": {
        "id": "5hox4fEXzdP-"
      },
      "source": [
        "# Lab session 4: Data Warehousing and On-line Analytical Processing"
      ]
    },
    {
      "cell_type": "markdown",
      "metadata": {
        "id": "gIVISJEEzdQA"
      },
      "source": [
        "## Introduction\n",
        "\n",
        "The aim of this lab (Lab session 4) is for students to get experience with **Data Warehousing** and **On-line Analytical Processing (OLAP)** covered in lecture 5, and more specifically with the concepts of **data cubes**, **data cube measures**, **typical OLAP operations**, and **data cube computation**.\n"
      ]
    },
    {
      "cell_type": "markdown",
      "metadata": {
        "id": "D1qCdQp2zdQE"
      },
      "source": [
        "## 1. Introduction to Cubes\n",
        "\n",
        "This chapter describes step-by-step how to use Cubes (http://cubes.databrewery.org/), a lightweight Python framework and set of tools for development of reporting and analytical applications, Online Analytical Processing (OLAP), multidimensional analysis and browsing of aggregated data. We will be working with v1.1 of Cubes. Cubes features:\n",
        "- a logical view of analysed data - how analysts look at data, how they think of data, not not how the data are physically implemented in the data stores\n",
        "- OLAP and aggregated browsing (default backend is for relational databse - ROLAP)\n",
        "- hierarchical dimensions (attributes that have hierarchical dependencies, such as category-subcategory or country-region)\n",
        "- multiple hierarchies in a dimension\n",
        "- localizable metadata and data (see Localization)\n",
        "- authentication and authorization of cubes and their data\n",
        "- pluggable data warehouse – plug-in other cube-like (multidimensional) data sources\n",
        "\n",
        "Cubes is meant to be used by application builders that want to provide analytical functionality. Cubes also relies on methods from SQLAlchemy (https://www.sqlalchemy.org/), an open-source SQL toolkit and object-relational mapper for Python."
      ]
    },
    {
      "cell_type": "markdown",
      "metadata": {
        "id": "9szp7SwgzdQG"
      },
      "source": [
        "## 2. Data Preparation\n",
        "\n",
        "The example data used here is the International Bank for Reconstruction and Development (IBRD) Balance Sheet. For this example we will be using the CSV file \"IBRD_Balance_Sheet__FY2010.csv\" which is provided in the supplementary material for the lab. The CSV file includes records which are characterised by a Category (and subcategories), Line Item, Fiscal Year, and Amount (in US$ millions). We first start with imports:"
      ]
    },
    {
      "cell_type": "code",
      "metadata": {
        "id": "FXIBCAyPzdQG"
      },
      "source": [
        "# If you are using Google Colab, you would need to run the below line to install Cubes.\n",
        "# You can comment the below line if you are running a local python installation with Cubes installed.\n",
        "!pip install --upgrade cubes\n",
        "!pip install sqlalchemy==1.3.20\n",
        "from sqlalchemy import create_engine\n"
      ],
      "execution_count": null,
      "outputs": []
    },
    {
      "cell_type": "markdown",
      "source": [
        "**Note: on Google Colab, if any error pops up in the below command, just rerun it and it should be ok**"
      ],
      "metadata": {
        "id": "LEK8pq3cQeP4"
      }
    },
    {
      "cell_type": "code",
      "source": [
        "from cubes.tutorial.sql import create_table_from_csv"
      ],
      "metadata": {
        "id": "27yEpKuSQJFt"
      },
      "execution_count": null,
      "outputs": []
    },
    {
      "cell_type": "markdown",
      "metadata": {
        "id": "fwzYQ-RWzdQH"
      },
      "source": [
        "We can now load the data, create a table and populate it with contents of the CSV file. Note the categories and subcategories created; check the CSV file to link the below commands with the contents of the dataset."
      ]
    },
    {
      "cell_type": "code",
      "metadata": {
        "id": "fxMa8Kp6zdQH"
      },
      "source": [
        "engine = create_engine('sqlite:///data.sqlite')\n",
        "create_table_from_csv(engine,\n",
        "                      \"IBRD_Balance_Sheet__FY2010.csv\",\n",
        "                      table_name=\"ibrd_balance\",\n",
        "                      fields=[\n",
        "                          (\"category\", \"string\"),\n",
        "                          (\"category_label\", \"string\"),\n",
        "                          (\"subcategory\", \"string\"),\n",
        "                          (\"subcategory_label\", \"string\"),\n",
        "                          (\"line_item\", \"string\"),\n",
        "                          (\"year\", \"integer\"),\n",
        "                          (\"amount\", \"integer\")],\n",
        "                      create_id=True\n",
        "                     )"
      ],
      "execution_count": null,
      "outputs": []
    },
    {
      "cell_type": "markdown",
      "metadata": {
        "id": "fTFmeAwPzdQJ"
      },
      "source": [
        "## 3. Creating a data cube\n",
        "\n",
        "Everything in Cubes happens in an *analytical workspace*. It contains cubes, maintains connections to the data stores (with cube data), provides connection to external cubes and more.\n",
        "\n",
        "The workspace properties are specified in a configuration file slicer.ini (default name). The first thing we have to do is to specify a data store – a database which will host the cube’s data:\n",
        "</br> </br>\n",
        "\n",
        "**Note: in Google Colab, the below cell may produce an error the first time you run it (\"cannot import name MutableMapping from collections\"). In that case, on google colab, you will have to go to: /usr/local/lib/python3.10/dist-packages/cubes/datastructures.py (just press on it) and edit the file as described below:** </br>\n",
        "**replace the line: from collections import MutableMapping**</br>\n",
        "**with: from collections.abc import MutableMapping**</br>\n",
        "</br>\n",
        "**Remember to save the file after you edit it. Then reload colab and rerun everything until this point. The initial error will be resolved.**"
      ]
    },
    {
      "cell_type": "code",
      "metadata": {
        "id": "VZyn9s8mzdQK"
      },
      "source": [
        "from cubes import Workspace\n",
        "\n",
        "workspace = Workspace()\n",
        "workspace.register_default_store(\"sql\", url=\"sqlite:///data.sqlite\")"
      ],
      "execution_count": null,
      "outputs": []
    },
    {
      "cell_type": "markdown",
      "metadata": {
        "id": "E9EIGCjXzdQL"
      },
      "source": [
        "The structure of data cubes (in terms of dimensions, measures, and aggregates) is specified in JSON files. We now import file 'tutorial_model.json' (found in the lab supplementary material) which includes an example model of the data cube, dimension tables, and aggregate functions for the CSV file we loaded previously."
      ]
    },
    {
      "cell_type": "code",
      "metadata": {
        "id": "JnWunsqgzdQM"
      },
      "source": [
        "workspace.import_model(\"tutorial_model.json\")"
      ],
      "execution_count": null,
      "outputs": []
    },
    {
      "cell_type": "markdown",
      "metadata": {
        "id": "HA01sBgQzdQN"
      },
      "source": [
        "**Please make sure to inspect the structure of the above JSON file**\n",
        "\n",
        "We can now create a data cube based on the above data cube model and data table:"
      ]
    },
    {
      "cell_type": "code",
      "metadata": {
        "id": "j8R-iLAYzdQO"
      },
      "source": [
        "cube = workspace.cube(\"ibrd_balance\")"
      ],
      "execution_count": null,
      "outputs": []
    },
    {
      "cell_type": "markdown",
      "metadata": {
        "id": "jd9DjXhgzdQP"
      },
      "source": [
        "## 4. Aggregations and OLAP operations\n",
        "\n",
        "*Browser* is an object that does the actual aggregations and other data queries for a cube. To obtain one:"
      ]
    },
    {
      "cell_type": "code",
      "metadata": {
        "id": "nnDst0CczdQP"
      },
      "source": [
        "browser = workspace.browser(cube)"
      ],
      "execution_count": null,
      "outputs": []
    },
    {
      "cell_type": "markdown",
      "metadata": {
        "id": "YP8BLLfIzdQQ"
      },
      "source": [
        "We can now compute aggregates of the data cube as specified by the data cube model. For computing the total count of records:"
      ]
    },
    {
      "cell_type": "code",
      "metadata": {
        "id": "ZOz_da0SzdQQ",
        "colab": {
          "base_uri": "https://localhost:8080/"
        },
        "outputId": "1c8c271e-24a9-4158-f30c-5e7757685f25"
      },
      "source": [
        "result = browser.aggregate()\n",
        "result.summary[\"record_count\"]"
      ],
      "execution_count": null,
      "outputs": [
        {
          "output_type": "execute_result",
          "data": {
            "text/plain": [
              "62"
            ]
          },
          "metadata": {},
          "execution_count": 10
        }
      ]
    },
    {
      "cell_type": "markdown",
      "metadata": {
        "id": "dKWET-J2zdQR"
      },
      "source": [
        "For computing a sum of the amount:"
      ]
    },
    {
      "cell_type": "code",
      "metadata": {
        "id": "_MsOxTMzzdQR"
      },
      "source": [
        "result.summary[\"amount_sum\"]"
      ],
      "execution_count": null,
      "outputs": []
    },
    {
      "cell_type": "markdown",
      "metadata": {
        "id": "smFYyUDbzdQR"
      },
      "source": [
        "Now we can try to compute aggregates by year:"
      ]
    },
    {
      "cell_type": "code",
      "metadata": {
        "id": "8uAM-7DfzdQR"
      },
      "source": [
        "result = browser.aggregate(drilldown=[\"year\"])\n",
        "for record in result:\n",
        "    print(record)"
      ],
      "execution_count": null,
      "outputs": []
    },
    {
      "cell_type": "markdown",
      "metadata": {
        "id": "5GGSTe7jzdQS"
      },
      "source": [
        "Or compute aggregates by item category:"
      ]
    },
    {
      "cell_type": "code",
      "metadata": {
        "id": "oz2KrmECzdQS"
      },
      "source": [
        "result = browser.aggregate(drilldown=[\"item\"])\n",
        "for record in result:\n",
        "    print(record)"
      ],
      "execution_count": null,
      "outputs": []
    },
    {
      "cell_type": "markdown",
      "metadata": {
        "id": "GyNipccozdQS"
      },
      "source": [
        "We can also perform *slicing* and *dicing* operations on the data cube. The below example performs a slicing operation on the data cube by selecting only entries with the year being 2009, and displays aggregates according to the item category. Here, a *cell* defines a point of interest – portion of the cube to be aggergated or browsed."
      ]
    },
    {
      "cell_type": "code",
      "metadata": {
        "id": "SGth6V1kzdQS"
      },
      "source": [
        "import cubes as cubes\n",
        "cuts = [cubes.PointCut(\"year\", [\"2009\"])]\n",
        "cell = cubes.Cell(cube, cuts)\n",
        "result = browser.aggregate(cell, drilldown=[\"item\"])\n",
        "for record in result:\n",
        "    print(record)"
      ],
      "execution_count": null,
      "outputs": []
    },
    {
      "cell_type": "markdown",
      "metadata": {
        "id": "JxuBWl9azdQS"
      },
      "source": [
        "It's worth noting that in Cubes, slicing operations can be created by either specifying a \"point cut\" which selects a single value of an attribute in a given dimension (called using the cubes.PointCut() function as above), or by specifying a \"range cut\", which selects a range of values for a given dimension. The range cut can be called using the cubes.RangeCut() function, which takes as input the attribute name, the minimum value of the specified range, and the maximum value of the range.\n",
        "\n",
        "Similarly, we can perform a *dicing* operation on the data cube by performing a selection on two or more dimensions. The below example performs a dicing operation on the data cube, selecting entries with the year being 2009 and the item category being \"a\", and displays the aggregate results:"
      ]
    },
    {
      "cell_type": "code",
      "metadata": {
        "id": "SwoOriQizdQT"
      },
      "source": [
        "cuts = [cubes.PointCut(\"year\", [\"2009\"]),cubes.PointCut(\"item\", [\"a\"])]\n",
        "cell = cubes.Cell(cube, cuts)\n",
        "result = browser.aggregate(cell,drilldown=[\"item\"])\n",
        "result.summary"
      ],
      "execution_count": null,
      "outputs": []
    },
    {
      "cell_type": "markdown",
      "metadata": {
        "id": "kZkEpxrCzdQT"
      },
      "source": [
        "We can also *drill down* lower in the Category hierarchy. Here, we perform a dicing operation to select records with year being 2009 and item category being \"a\" (corresponding to assets), and show aggregates for each subcategory level."
      ]
    },
    {
      "cell_type": "code",
      "metadata": {
        "id": "SWI2aH9yzdQT"
      },
      "source": [
        "cuts = [cubes.PointCut(\"year\", [\"2009\"]),cubes.PointCut(\"item\", [\"a\"])]\n",
        "cell = cubes.Cell(cube, cuts)\n",
        "result = browser.aggregate(cell,drilldown=[\"item:subcategory\"])\n",
        "for record in result:\n",
        "    print(record)"
      ],
      "execution_count": null,
      "outputs": []
    },
    {
      "cell_type": "markdown",
      "source": [
        "</br>"
      ],
      "metadata": {
        "id": "HD5btV37sTuS"
      }
    },
    {
      "cell_type": "markdown",
      "metadata": {
        "id": "9trjWTB4zdQT"
      },
      "source": [
        "**Exercise**:\n",
        "\n",
        "Using the same CSV file and data cube in the above lab tutorial: </br>\n",
        "i) modify the \"tutorial_model.json\" file to include aggregate measures for the minimum and maximum amount in the data cube; </br>\n",
        "ii) using these implemented aggregate measures, produce the values for the minimum and maximum amount in the data per year.\n",
        "\n",
        "\n",
        "\n",
        "  "
      ]
    }
  ]
}